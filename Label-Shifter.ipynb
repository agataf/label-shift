{
 "cells": [
  {
   "cell_type": "code",
   "execution_count": 1,
   "metadata": {},
   "outputs": [],
   "source": [
    "# -*- coding: utf8\n",
    "\n",
    "from label_shift.skwrapper import LabelShiftDetectorSKLearn\n",
    "\n",
    "from statsmodels.distributions.empirical_distribution import ECDF\n",
    "\n",
    "from sklearn import datasets\n",
    "from sklearn import metrics\n",
    "from sklearn import model_selection\n",
    "from sklearn import neural_network\n",
    "from sklearn import linear_model\n",
    "from sklearn import svm\n",
    "\n",
    "import matplotlib.pyplot as plt\n",
    "import numpy as np\n",
    "\n",
    "plt.ion()"
   ]
  },
  {
   "cell_type": "code",
   "execution_count": 2,
   "metadata": {},
   "outputs": [],
   "source": [
    "import warnings\n",
    "warnings.filterwarnings('ignore')"
   ]
  },
  {
   "cell_type": "code",
   "execution_count": 3,
   "metadata": {},
   "outputs": [
    {
     "data": {
      "image/png": "[encoded data removed]",
      "text/plain": [
       "<Figure size 432x288 with 4 Axes>"
      ]
     },
     "metadata": {
      "needs_background": "light"
     },
     "output_type": "display_data"
    }
   ],
   "source": [
    "digits = datasets.load_digits()\n",
    "\n",
    "images_and_labels = list(zip(digits.images, digits.target))\n",
    "for index, (image, label) in enumerate(images_and_labels[:4]):\n",
    "    plt.subplot(2, 4, index + 1)\n",
    "    plt.imshow(image)"
   ]
  },
  {
   "cell_type": "code",
   "execution_count": 4,
   "metadata": {},
   "outputs": [],
   "source": [
    "n_samples = len(digits.images)\n",
    "data = digits.images.reshape((n_samples, -1))\n",
    "\n",
    "X = data\n",
    "y = digits.target\n",
    "X_train, X_test, y_train, y_test = model_selection.train_test_split(X, y,\n",
    "                                                                    test_size=0.2)"
   ]
  },
  {
   "cell_type": "code",
   "execution_count": 5,
   "metadata": {},
   "outputs": [
    {
     "name": "stdout",
     "output_type": "stream",
     "text": [
      "(1437, 64)\n",
      "(360, 64)\n"
     ]
    }
   ],
   "source": [
    "print(X_train.shape)\n",
    "print(X_test.shape)"
   ]
  },
  {
   "cell_type": "code",
   "execution_count": 6,
   "metadata": {},
   "outputs": [],
   "source": [
    "ko_classes = {1, 2, 3, 4, 6, 7, 8, 9}\n",
    "ko_prob = 0.9\n",
    "\n",
    "keep = np.ones(len(y_train), dtype='bool')\n",
    "for i in range(len(y_train)):\n",
    "    if y_train[i] in ko_classes and np.random.rand() < ko_prob:\n",
    "        keep[i] = False"
   ]
  },
  {
   "cell_type": "code",
   "execution_count": 7,
   "metadata": {},
   "outputs": [
    {
     "name": "stdout",
     "output_type": "stream",
     "text": [
      "0.2894919972164231\n"
     ]
    }
   ],
   "source": [
    "print(keep.sum() / keep.shape[0])"
   ]
  },
  {
   "cell_type": "code",
   "execution_count": 8,
   "metadata": {},
   "outputs": [],
   "source": [
    "X_train = X_train[keep]\n",
    "y_train = y_train[keep]"
   ]
  },
  {
   "cell_type": "code",
   "execution_count": 9,
   "metadata": {},
   "outputs": [
    {
     "data": {
      "image/png": "[encoded data removed]",
      "text/plain": [
       "<Figure size 432x288 with 1 Axes>"
      ]
     },
     "metadata": {
      "needs_background": "light"
     },
     "output_type": "display_data"
    }
   ],
   "source": [
    "labels, count = np.unique(y_train, return_counts=True)\n",
    "plt.bar(labels, count);"
   ]
  },
  {
   "cell_type": "code",
   "execution_count": 10,
   "metadata": {},
   "outputs": [
    {
     "name": "stdout",
     "output_type": "stream",
     "text": [
      "              precision    recall  f1-score   support\n",
      "\n",
      "           0       0.58      1.00      0.74        32\n",
      "           1       0.88      0.46      0.60        46\n",
      "           2       0.94      0.80      0.87        41\n",
      "           3       1.00      0.79      0.89        34\n",
      "           4       1.00      0.96      0.98        25\n",
      "           5       0.62      1.00      0.77        38\n",
      "           6       0.75      0.97      0.85        37\n",
      "           7       0.95      0.91      0.93        43\n",
      "           8       0.51      0.64      0.57        28\n",
      "           9       0.50      0.14      0.22        36\n",
      "\n",
      "    accuracy                           0.76       360\n",
      "   macro avg       0.77      0.77      0.74       360\n",
      "weighted avg       0.78      0.76      0.74       360\n",
      "\n"
     ]
    }
   ],
   "source": [
    "# base = neural_network.MLPClassifier(hidden_layer_sizes=(128, 128))\n",
    "# base = svm.SVC(gamma=0.001)\n",
    "base = linear_model.LogisticRegressionCV()\n",
    "classifier = LabelShiftDetectorSKLearn(base)\n",
    "classifier.fit(X_train, y_train)\n",
    "y_pred = classifier.predict(X_test)\n",
    "print(metrics.classification_report(y_test, y_pred))"
   ]
  },
  {
   "cell_type": "code",
   "execution_count": 11,
   "metadata": {},
   "outputs": [
    {
     "data": {
      "text/plain": [
       "[<matplotlib.lines.Line2D at 0x7f879bdd9278>]"
      ]
     },
     "execution_count": 11,
     "metadata": {},
     "output_type": "execute_result"
    },
    {
     "data": {
      "image/png": "[encoded data removed]",
      "text/plain": [
       "<Figure size 576x576 with 1 Axes>"
      ]
     },
     "metadata": {
      "needs_background": "light"
     },
     "output_type": "display_data"
    }
   ],
   "source": [
    "plt.figure(figsize=(8, 8))\n",
    "p, pvals = classifier.label_shift_detector(X_test, return_bootstrap=True)\n",
    "ecdf = ECDF(pvals)\n",
    "plt.plot(ecdf.x, ecdf.y)\n",
    "plt.plot(ecdf.y, ecdf.y)"
   ]
  },
  {
   "cell_type": "code",
   "execution_count": 12,
   "metadata": {},
   "outputs": [
    {
     "name": "stdout",
     "output_type": "stream",
     "text": [
      "1.5755259056400494e-05 67.03379854533202 1.8120352283989751\n"
     ]
    }
   ],
   "source": [
    "p, nrm, kld = classifier.label_shift_detector(X_test, y_test)\n",
    "print(p, nrm, kld)"
   ]
  },
  {
   "cell_type": "code",
   "execution_count": 13,
   "metadata": {},
   "outputs": [
    {
     "name": "stdout",
     "output_type": "stream",
     "text": [
      "              precision    recall  f1-score   support\n",
      "\n",
      "           0       0.58      1.00      0.74        32\n",
      "           1       0.88      0.46      0.60        46\n",
      "           2       0.94      0.80      0.87        41\n",
      "           3       1.00      0.79      0.89        34\n",
      "           4       1.00      0.96      0.98        25\n",
      "           5       0.62      1.00      0.77        38\n",
      "           6       0.75      0.97      0.85        37\n",
      "           7       0.95      0.91      0.93        43\n",
      "           8       0.51      0.64      0.57        28\n",
      "           9       0.50      0.14      0.22        36\n",
      "\n",
      "    accuracy                           0.76       360\n",
      "   macro avg       0.77      0.77      0.74       360\n",
      "weighted avg       0.78      0.76      0.74       360\n",
      "\n"
     ]
    }
   ],
   "source": [
    "y_pred = classifier.predict(X_test)\n",
    "print(metrics.classification_report(y_test, y_pred))"
   ]
  },
  {
   "cell_type": "code",
   "execution_count": 14,
   "metadata": {},
   "outputs": [
    {
     "name": "stdout",
     "output_type": "stream",
     "text": [
      "              precision    recall  f1-score   support\n",
      "\n",
      "           0       0.91      1.00      0.96        32\n",
      "           1       0.94      0.63      0.75        46\n",
      "           2       0.98      0.98      0.98        41\n",
      "           3       1.00      0.74      0.85        34\n",
      "           4       0.89      0.96      0.92        25\n",
      "           5       0.64      1.00      0.78        38\n",
      "           6       0.82      0.97      0.89        37\n",
      "           7       0.98      0.93      0.95        43\n",
      "           8       0.73      0.68      0.70        28\n",
      "           9       0.94      0.81      0.87        36\n",
      "\n",
      "    accuracy                           0.87       360\n",
      "   macro avg       0.88      0.87      0.86       360\n",
      "weighted avg       0.89      0.87      0.87       360\n",
      "\n"
     ]
    }
   ],
   "source": [
    "weights = classifier.wt_est_[:, 0].copy()\n",
    "weights = weights / weights.sum()\n",
    "class_weights = {}\n",
    "for k in range(len(weights)):\n",
    "    class_weights[k] = weights[k]\n",
    "\n",
    "new_classifier = linear_model.LogisticRegressionCV(class_weight=class_weights)\n",
    "new_classifier.fit(X_train, y_train)\n",
    "y_pred = new_classifier.predict(X_test)\n",
    "print(metrics.classification_report(y_test, y_pred))"
   ]
  },
  {
   "cell_type": "code",
   "execution_count": null,
   "metadata": {},
   "outputs": [],
   "source": []
  }
 ],
 "metadata": {
  "kernelspec": {
   "display_name": "Python 3",
   "language": "python",
   "name": "python3"
  },
  "language_info": {
   "codemirror_mode": {
    "name": "ipython",
    "version": 3
   },
   "file_extension": ".py",
   "mimetype": "text/x-python",
   "name": "python",
   "nbconvert_exporter": "python",
   "pygments_lexer": "ipython3",
   "version": "3.7.3"
  }
 },
 "nbformat": 4,
 "nbformat_minor": 2
}
