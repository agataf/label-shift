{
 "cells": [
  {
   "cell_type": "code",
   "execution_count": 1,
   "metadata": {},
   "outputs": [],
   "source": [
    "# -*- coding: utf8\n",
    "\n",
    "from label_shift.skwrapper import LabelShiftDetectorSKLearn\n",
    "\n",
    "from statsmodels.distributions.empirical_distribution import ECDF\n",
    "\n",
    "from sklearn import datasets\n",
    "from sklearn import metrics\n",
    "from sklearn import model_selection\n",
    "from sklearn import neural_network\n",
    "from sklearn import linear_model\n",
    "from sklearn import svm\n",
    "\n",
    "import matplotlib.pyplot as plt\n",
    "import numpy as np\n",
    "\n",
    "plt.ion()\n",
    "np.random.seed(100)"
   ]
  },
  {
   "cell_type": "code",
   "execution_count": 2,
   "metadata": {},
   "outputs": [],
   "source": [
    "import warnings\n",
    "warnings.filterwarnings('ignore')"
   ]
  },
  {
   "cell_type": "code",
   "execution_count": 3,
   "metadata": {},
   "outputs": [
    {
     "data": {
      "image/png": "[encoded data removed]",
      "text/plain": [
       "<Figure size 432x288 with 4 Axes>"
      ]
     },
     "metadata": {
      "needs_background": "light"
     },
     "output_type": "display_data"
    }
   ],
   "source": [
    "digits = datasets.load_digits()\n",
    "\n",
    "images_and_labels = list(zip(digits.images, digits.target))\n",
    "for index, (image, label) in enumerate(images_and_labels[:4]):\n",
    "    plt.subplot(2, 4, index + 1)\n",
    "    plt.imshow(image)"
   ]
  },
  {
   "cell_type": "code",
   "execution_count": 4,
   "metadata": {},
   "outputs": [
    {
     "data": {
      "text/plain": [
       "(1797, 8, 8)"
      ]
     },
     "execution_count": 4,
     "metadata": {},
     "output_type": "execute_result"
    }
   ],
   "source": [
    "digits.images.shape"
   ]
  },
  {
   "cell_type": "code",
   "execution_count": 5,
   "metadata": {},
   "outputs": [],
   "source": [
    "n_samples = len(digits.images)\n",
    "data = digits.images.reshape((n_samples, -1))\n",
    "\n",
    "X = data\n",
    "y = digits.target\n",
    "X_train, X_test, y_train, y_test = model_selection.train_test_split(X, y,\n",
    "                                                                    test_size=0.2)"
   ]
  },
  {
   "cell_type": "code",
   "execution_count": 6,
   "metadata": {},
   "outputs": [
    {
     "name": "stdout",
     "output_type": "stream",
     "text": [
      "(1437, 64)\n",
      "(360, 64)\n"
     ]
    }
   ],
   "source": [
    "print(X_train.shape)\n",
    "print(X_test.shape)"
   ]
  },
  {
   "cell_type": "code",
   "execution_count": 7,
   "metadata": {},
   "outputs": [],
   "source": [
    "ko_classes = {1, 2, 3, 4, 6, 7, 8, 9}\n",
    "ko_prob = 0.9\n",
    "\n",
    "keep = np.ones(len(y_train), dtype='bool')\n",
    "for i in range(len(y_train)):\n",
    "    if y_train[i] in ko_classes and np.random.rand() < ko_prob:\n",
    "        keep[i] = False"
   ]
  },
  {
   "cell_type": "code",
   "execution_count": 8,
   "metadata": {},
   "outputs": [
    {
     "name": "stdout",
     "output_type": "stream",
     "text": [
      "0.2651356993736952\n"
     ]
    }
   ],
   "source": [
    "print(keep.sum() / keep.shape[0])"
   ]
  },
  {
   "cell_type": "code",
   "execution_count": 9,
   "metadata": {},
   "outputs": [],
   "source": [
    "X_train_full = X_train\n",
    "y_train_full = y_train\n",
    "X_train = X_train[keep]\n",
    "y_train = y_train[keep]"
   ]
  },
  {
   "cell_type": "code",
   "execution_count": 10,
   "metadata": {},
   "outputs": [
    {
     "data": {
      "image/png": "[encoded data removed]",
      "text/plain": [
       "<Figure size 432x288 with 1 Axes>"
      ]
     },
     "metadata": {
      "needs_background": "light"
     },
     "output_type": "display_data"
    }
   ],
   "source": [
    "labels, count = np.unique(y_train, return_counts=True)\n",
    "plt.bar(labels, count);"
   ]
  },
  {
   "cell_type": "markdown",
   "metadata": {},
   "source": [
    "### Train the classifier on 1/2 training data, estimate label shift"
   ]
  },
  {
   "cell_type": "code",
   "execution_count": 11,
   "metadata": {},
   "outputs": [
    {
     "name": "stdout",
     "output_type": "stream",
     "text": [
      "              precision    recall  f1-score   support\n",
      "\n",
      "           0       0.57      1.00      0.72        42\n",
      "           1       0.71      0.69      0.70        32\n",
      "           2       0.94      0.83      0.88        41\n",
      "           3       1.00      0.78      0.88        32\n",
      "           4       1.00      0.72      0.84        36\n",
      "           5       0.67      1.00      0.80        35\n",
      "           6       1.00      0.75      0.86        40\n",
      "           7       0.88      0.97      0.93        39\n",
      "           8       0.79      0.81      0.80        27\n",
      "           9       0.73      0.31      0.43        36\n",
      "\n",
      "    accuracy                           0.79       360\n",
      "   macro avg       0.83      0.79      0.78       360\n",
      "weighted avg       0.83      0.79      0.79       360\n",
      "\n"
     ]
    }
   ],
   "source": [
    "# base = neural_network.MLPClassifier(hidden_layer_sizes=(128, 128))\n",
    "# base = svm.SVC(gamma=0.001)\n",
    "base = linear_model.LogisticRegressionCV()\n",
    "classifier = LabelShiftDetectorSKLearn(base)\n",
    "\n",
    "# this object now contains the base classifier\n",
    "# trained on 1/2 of train data\n",
    "# as well as estimated label shift w_hat\n",
    "classifier.fit(X_train, y_train)\n",
    "y_pred = classifier.predict(X_test)\n",
    "print(metrics.classification_report(y_test, y_pred))\n",
    "\n",
    "# these results change as I re-run - because of random splitting of train"
   ]
  },
  {
   "cell_type": "markdown",
   "metadata": {},
   "source": [
    "### Train original classifier on full data"
   ]
  },
  {
   "cell_type": "code",
   "execution_count": 12,
   "metadata": {},
   "outputs": [
    {
     "name": "stdout",
     "output_type": "stream",
     "text": [
      "              precision    recall  f1-score   support\n",
      "\n",
      "           0       0.76      1.00      0.87        42\n",
      "           1       0.73      0.84      0.78        32\n",
      "           2       0.97      0.85      0.91        41\n",
      "           3       1.00      0.81      0.90        32\n",
      "           4       1.00      0.69      0.82        36\n",
      "           5       0.78      1.00      0.88        35\n",
      "           6       0.97      0.93      0.95        40\n",
      "           7       0.95      0.97      0.96        39\n",
      "           8       0.89      0.89      0.89        27\n",
      "           9       0.97      0.83      0.90        36\n",
      "\n",
      "    accuracy                           0.89       360\n",
      "   macro avg       0.90      0.88      0.88       360\n",
      "weighted avg       0.90      0.89      0.89       360\n",
      "\n"
     ]
    }
   ],
   "source": [
    "base.fit(X_train, y_train)\n",
    "y_pred = base.predict(X_test)\n",
    "print(metrics.classification_report(y_test, y_pred))"
   ]
  },
  {
   "cell_type": "markdown",
   "metadata": {},
   "source": [
    "### Run label shift detection\n",
    "* Calculate $q(\\hat{y})$, take $p(\\hat{y})$ calculated above\n",
    "* Take 500 bootstrap samples from each distribution, calculate two-sample test each time to estimate whether they were taken from the same distribution - save p-values\n",
    "* Small p-value:  $H_0$: $q(\\hat{y}) \\neq p(\\hat{y})$ can't be rejected (label shift detected)"
   ]
  },
  {
   "cell_type": "code",
   "execution_count": 13,
   "metadata": {},
   "outputs": [
    {
     "data": {
      "text/plain": [
       "[<matplotlib.lines.Line2D at 0x1a1c816350>]"
      ]
     },
     "execution_count": 13,
     "metadata": {},
     "output_type": "execute_result"
    },
    {
     "data": {
      "image/png": "[encoded data removed]",
      "text/plain": [
       "<Figure size 576x576 with 1 Axes>"
      ]
     },
     "metadata": {
      "needs_background": "light"
     },
     "output_type": "display_data"
    }
   ],
   "source": [
    "plt.figure(figsize=(8, 8))\n",
    "p, pvals = classifier.label_shift_detector(X_test, return_bootstrap=True)\n",
    "# calculate the empirical cdf function - step  function\n",
    "# jumps up by 1/n at each of the n data points\n",
    "ecdf = ECDF(pvals)\n",
    "plt.plot(ecdf.x, ecdf.y)\n",
    "#plt.plot(ecdf.y, ecdf.y)"
   ]
  },
  {
   "cell_type": "markdown",
   "metadata": {},
   "source": [
    "### Compare estimated $q(\\hat{y})$ with real $q(y)$\n",
    "* p: p-value of Kolmogorov-Smirnov between $q(\\hat{y})$ and $p(\\hat{y})$\n",
    "* nrm: $||\\hat{w}-w||_2^2 = ||\\hat{C}^{-1}_{\\hat{y},y}\\hat{\\mu}_{\\hat{y}}-\\frac{q(y)}{p(y)}||_2^2$\n",
    "* kld: $D_{KL}(q(y)||q(\\hat{y}))$\n",
    "\n",
    "\n",
    "$D_{KL}(P||Q) = \\sum_{y \\in Y} p(y) \\log\\Big(\\frac{p(y)}{q(y)}\\Big)$"
   ]
  },
  {
   "cell_type": "code",
   "execution_count": 14,
   "metadata": {},
   "outputs": [
    {
     "name": "stdout",
     "output_type": "stream",
     "text": [
      "7.804151092027922e-07 103.76445075929651 2.1381645562474945\n"
     ]
    }
   ],
   "source": [
    "p, nrm, kld = classifier.label_shift_detector(X_test, y_test)\n",
    "print(p, nrm, kld)"
   ]
  },
  {
   "cell_type": "markdown",
   "metadata": {},
   "source": [
    "### Comparing performance of old and shifted classifier on the test set\n",
    "\n",
    "Why are both of these the same?"
   ]
  },
  {
   "cell_type": "code",
   "execution_count": 15,
   "metadata": {},
   "outputs": [
    {
     "name": "stdout",
     "output_type": "stream",
     "text": [
      "              precision    recall  f1-score   support\n",
      "\n",
      "           0       0.76      1.00      0.87        42\n",
      "           1       0.73      0.84      0.78        32\n",
      "           2       0.97      0.85      0.91        41\n",
      "           3       1.00      0.81      0.90        32\n",
      "           4       1.00      0.69      0.82        36\n",
      "           5       0.78      1.00      0.88        35\n",
      "           6       0.97      0.93      0.95        40\n",
      "           7       0.95      0.97      0.96        39\n",
      "           8       0.89      0.89      0.89        27\n",
      "           9       0.97      0.83      0.90        36\n",
      "\n",
      "    accuracy                           0.89       360\n",
      "   macro avg       0.90      0.88      0.88       360\n",
      "weighted avg       0.90      0.89      0.89       360\n",
      "\n"
     ]
    }
   ],
   "source": [
    "base_y_pred = base.predict(X_test)\n",
    "print(metrics.classification_report(y_test, base_y_pred))"
   ]
  },
  {
   "cell_type": "code",
   "execution_count": 16,
   "metadata": {},
   "outputs": [
    {
     "name": "stdout",
     "output_type": "stream",
     "text": [
      "              precision    recall  f1-score   support\n",
      "\n",
      "           0       0.76      1.00      0.87        42\n",
      "           1       0.73      0.84      0.78        32\n",
      "           2       0.97      0.85      0.91        41\n",
      "           3       1.00      0.81      0.90        32\n",
      "           4       1.00      0.69      0.82        36\n",
      "           5       0.78      1.00      0.88        35\n",
      "           6       0.97      0.93      0.95        40\n",
      "           7       0.95      0.97      0.96        39\n",
      "           8       0.89      0.89      0.89        27\n",
      "           9       0.97      0.83      0.90        36\n",
      "\n",
      "    accuracy                           0.89       360\n",
      "   macro avg       0.90      0.88      0.88       360\n",
      "weighted avg       0.90      0.89      0.89       360\n",
      "\n"
     ]
    }
   ],
   "source": [
    "adjusted_y_pred = classifier.predict(X_test)\n",
    "print(metrics.classification_report(y_test, adjusted_y_pred))"
   ]
  },
  {
   "cell_type": "code",
   "execution_count": null,
   "metadata": {},
   "outputs": [],
   "source": []
  },
  {
   "cell_type": "code",
   "execution_count": 17,
   "metadata": {},
   "outputs": [
    {
     "name": "stdout",
     "output_type": "stream",
     "text": [
      "              precision    recall  f1-score   support\n",
      "\n",
      "           0       0.86      1.00      0.92        42\n",
      "           1       0.72      0.81      0.76        32\n",
      "           2       1.00      0.88      0.94        41\n",
      "           3       1.00      0.78      0.88        32\n",
      "           4       1.00      0.72      0.84        36\n",
      "           5       0.81      1.00      0.90        35\n",
      "           6       0.95      0.90      0.92        40\n",
      "           7       0.85      1.00      0.92        39\n",
      "           8       0.79      0.85      0.82        27\n",
      "           9       0.91      0.81      0.85        36\n",
      "\n",
      "    accuracy                           0.88       360\n",
      "   macro avg       0.89      0.88      0.88       360\n",
      "weighted avg       0.89      0.88      0.88       360\n",
      "\n"
     ]
    }
   ],
   "source": [
    "weights = classifier.wt_est_[:, 0].copy()\n",
    "weights = weights / weights.sum()\n",
    "class_weights = {}\n",
    "for k in range(len(weights)):\n",
    "    class_weights[k] = weights[k]\n",
    "\n",
    "new_classifier = linear_model.LogisticRegressionCV(class_weight=class_weights)\n",
    "new_classifier.fit(X_train, y_train)\n",
    "y_pred = new_classifier.predict(X_test)\n",
    "print(metrics.classification_report(y_test, y_pred))"
   ]
  },
  {
   "cell_type": "code",
   "execution_count": null,
   "metadata": {},
   "outputs": [],
   "source": []
  }
 ],
 "metadata": {
  "kernelspec": {
   "display_name": "Python 3",
   "language": "python",
   "name": "python3"
  },
  "language_info": {
   "codemirror_mode": {
    "name": "ipython",
    "version": 3
   },
   "file_extension": ".py",
   "mimetype": "text/x-python",
   "name": "python",
   "nbconvert_exporter": "python",
   "pygments_lexer": "ipython3",
   "version": "3.7.4"
  }
 },
 "nbformat": 4,
 "nbformat_minor": 2
}
