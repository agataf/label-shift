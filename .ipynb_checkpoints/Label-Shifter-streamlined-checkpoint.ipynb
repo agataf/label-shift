{
 "cells": [
  {
   "cell_type": "code",
   "execution_count": 24,
   "metadata": {},
   "outputs": [],
   "source": [
    "# -*- coding: utf8\n",
    "\n",
    "from label_shift.skwrapper import LabelShiftDetectorSKLearn\n",
    "\n",
    "from statsmodels.distributions.empirical_distribution import ECDF\n",
    "\n",
    "from sklearn import datasets\n",
    "from sklearn import metrics\n",
    "from sklearn import model_selection\n",
    "from sklearn import neural_network\n",
    "from sklearn import linear_model\n",
    "from sklearn import svm\n",
    "import pandas as pd\n",
    "\n",
    "import matplotlib.pyplot as plt\n",
    "import numpy as np\n",
    "\n",
    "plt.ion()\n",
    "np.random.seed(100)\n",
    "\n",
    "import warnings\n",
    "warnings.filterwarnings('ignore')\n"
   ]
  },
  {
   "cell_type": "code",
   "execution_count": 25,
   "metadata": {},
   "outputs": [],
   "source": [
    "def get_data(test_size=0.2):\n",
    "    digits = datasets.load_digits()\n",
    "\n",
    "    images_and_labels = list(zip(digits.images, digits.target))\n",
    "    n_samples = len(digits.images)\n",
    "    data = digits.images.reshape((n_samples, -1))\n",
    "\n",
    "    X = data\n",
    "    y = digits.target\n",
    "    return model_selection.train_test_split(X, y, test_size=test_size)\n",
    "\n",
    "def sample_unbalanced(y_train, ko_classes, ko_prob = 0.9):\n",
    "\n",
    "    keep = np.ones(len(y_train), dtype='bool')\n",
    "    for i in range(len(y_train)):\n",
    "        if y_train[i] in ko_classes and np.random.rand() < ko_prob:\n",
    "            keep[i] = False\n",
    "            \n",
    "    print(\"Percent retained:\", keep.sum() / keep.shape[0])\n",
    "    \n",
    "    labels, count = np.unique(y_train[keep], return_counts=True)\n",
    "    plt.bar(labels, count)\n",
    "    plt.show()\n",
    "    \n",
    "    return keep\n",
    "\n",
    "def get_class_weights(classifier):\n",
    "    weights = classifier.wt_est_[:, 0].copy()\n",
    "    weights = weights / weights.sum()\n",
    "    class_weights = {}\n",
    "    for k in range(len(weights)):\n",
    "        class_weights[k] = weights[k]\n",
    "    return class_weights"
   ]
  },
  {
   "cell_type": "code",
   "execution_count": 26,
   "metadata": {},
   "outputs": [
    {
     "name": "stdout",
     "output_type": "stream",
     "text": [
      "Percent retained: 0.2651356993736952\n"
     ]
    },
    {
     "data": {
      "image/png": "[encoded data removed]",
      "text/plain": [
       "<Figure size 432x288 with 1 Axes>"
      ]
     },
     "metadata": {
      "needs_background": "light"
     },
     "output_type": "display_data"
    }
   ],
   "source": [
    "ko_classes = {1, 2, 3, 4, 6, 7, 8, 9}\n",
    "ko_prob = 0.9\n",
    "\n",
    "X_train_full, X_test, y_train_full, y_test = get_data(test_size=0.2)\n",
    "keep = sample_unbalanced(y_train_full, ko_classes, ko_prob)\n",
    "\n",
    "X_train = X_train_full[keep]\n",
    "y_train = y_train_full[keep]"
   ]
  },
  {
   "cell_type": "markdown",
   "metadata": {},
   "source": [
    "### Train the classifier on 1/2 training data, estimate label shift"
   ]
  },
  {
   "cell_type": "code",
   "execution_count": 27,
   "metadata": {},
   "outputs": [
    {
     "data": {
      "text/plain": [
       "LogisticRegressionCV(Cs=10,\n",
       "                     class_weight={0: 0.31554428041367466,\n",
       "                                   1: 0.030665573852291617,\n",
       "                                   2: 0.04334688528278828,\n",
       "                                   3: 0.030171108717352055,\n",
       "                                   4: 0.030171108717352055,\n",
       "                                   5: 0.27542936820634034,\n",
       "                                   6: 0.0274794763938615,\n",
       "                                   7: 0.10922193833578661,\n",
       "                                   8: 0.07401893076697075,\n",
       "                                   9: 0.06395132931358212},\n",
       "                     cv='warn', dual=False, fit_intercept=True,\n",
       "                     intercept_scaling=1.0, l1_ratios=None, max_iter=100,\n",
       "                     multi_class='warn', n_jobs=None, penalty='l2',\n",
       "                     random_state=None, refit=True, scoring=None,\n",
       "                     solver='lbfgs', tol=0.0001, verbose=0)"
      ]
     },
     "execution_count": 27,
     "metadata": {},
     "output_type": "execute_result"
    }
   ],
   "source": [
    "# base = neural_network.MLPClassifier(hidden_layer_sizes=(128, 128))\n",
    "# base = svm.SVC(gamma=0.001)\n",
    "base = linear_model.LogisticRegressionCV()\n",
    "base_fulldata = linear_model.LogisticRegressionCV()\n",
    "\n",
    "classifier = LabelShiftDetectorSKLearn(base)\n",
    "classifier.fit(X_train, y_train)\n",
    "base.fit(X_train, y_train)\n",
    "base_fulldata.fit(X_train_full, y_train_full)\n",
    "\n",
    "\n",
    "class_weights = get_class_weights(classifier)\n",
    "iwerm_classifier = linear_model.LogisticRegressionCV(class_weight=class_weights)\n",
    "iwerm_classifier.fit(X_train, y_train)"
   ]
  },
  {
   "cell_type": "code",
   "execution_count": 28,
   "metadata": {},
   "outputs": [],
   "source": [
    "y_pred0 = base.predict(X_test)\n",
    "y_pred1 = base_fulldata.predict(X_test)\n",
    "y_pred2 = classifier.predict(X_test)\n",
    "y_pred3 = iwerm_classifier.predict(X_test)\n",
    "\n",
    "all_f1 = []\n",
    "avg_f1 = []\n",
    "for y_pred in [y_pred0, y_pred1, y_pred2, y_pred3]:\n",
    "    all_f1.append(metrics.f1_score(y_test, y_pred, labels=list(range(10)), average=None))\n",
    "    avg_f1.append(metrics.f1_score(y_test, y_pred, average='macro'))"
   ]
  },
  {
   "cell_type": "code",
   "execution_count": 29,
   "metadata": {},
   "outputs": [
    {
     "data": {
      "text/plain": [
       "[0.8844057383594089,\n",
       " 0.9665717860260112,\n",
       " 0.8844057383594089,\n",
       " 0.8751280027605803]"
      ]
     },
     "execution_count": 29,
     "metadata": {},
     "output_type": "execute_result"
    }
   ],
   "source": [
    "avg_f1"
   ]
  },
  {
   "cell_type": "code",
   "execution_count": 30,
   "metadata": {},
   "outputs": [
    {
     "data": {
      "text/html": [
       "<div>\n",
       "<style scoped>\n",
       "    .dataframe tbody tr th:only-of-type {\n",
       "        vertical-align: middle;\n",
       "    }\n",
       "\n",
       "    .dataframe tbody tr th {\n",
       "        vertical-align: top;\n",
       "    }\n",
       "\n",
       "    .dataframe thead th {\n",
       "        text-align: right;\n",
       "    }\n",
       "</style>\n",
       "<table border=\"1\" class=\"dataframe\">\n",
       "  <thead>\n",
       "    <tr style=\"text-align: right;\">\n",
       "      <th></th>\n",
       "      <th>0</th>\n",
       "      <th>1</th>\n",
       "      <th>2</th>\n",
       "      <th>3</th>\n",
       "    </tr>\n",
       "  </thead>\n",
       "  <tbody>\n",
       "    <tr>\n",
       "      <td>0</td>\n",
       "      <td>0.865979</td>\n",
       "      <td>1.000000</td>\n",
       "      <td>0.865979</td>\n",
       "      <td>0.923077</td>\n",
       "    </tr>\n",
       "    <tr>\n",
       "      <td>1</td>\n",
       "      <td>0.782609</td>\n",
       "      <td>0.968750</td>\n",
       "      <td>0.782609</td>\n",
       "      <td>0.764706</td>\n",
       "    </tr>\n",
       "    <tr>\n",
       "      <td>2</td>\n",
       "      <td>0.909091</td>\n",
       "      <td>1.000000</td>\n",
       "      <td>0.909091</td>\n",
       "      <td>0.935065</td>\n",
       "    </tr>\n",
       "    <tr>\n",
       "      <td>3</td>\n",
       "      <td>0.896552</td>\n",
       "      <td>0.968750</td>\n",
       "      <td>0.896552</td>\n",
       "      <td>0.877193</td>\n",
       "    </tr>\n",
       "    <tr>\n",
       "      <td>4</td>\n",
       "      <td>0.819672</td>\n",
       "      <td>0.985915</td>\n",
       "      <td>0.819672</td>\n",
       "      <td>0.838710</td>\n",
       "    </tr>\n",
       "    <tr>\n",
       "      <td>5</td>\n",
       "      <td>0.875000</td>\n",
       "      <td>0.971429</td>\n",
       "      <td>0.875000</td>\n",
       "      <td>0.897436</td>\n",
       "    </tr>\n",
       "    <tr>\n",
       "      <td>6</td>\n",
       "      <td>0.948718</td>\n",
       "      <td>0.975000</td>\n",
       "      <td>0.948718</td>\n",
       "      <td>0.923077</td>\n",
       "    </tr>\n",
       "    <tr>\n",
       "      <td>7</td>\n",
       "      <td>0.962025</td>\n",
       "      <td>0.961039</td>\n",
       "      <td>0.962025</td>\n",
       "      <td>0.917647</td>\n",
       "    </tr>\n",
       "    <tr>\n",
       "      <td>8</td>\n",
       "      <td>0.888889</td>\n",
       "      <td>0.888889</td>\n",
       "      <td>0.888889</td>\n",
       "      <td>0.821429</td>\n",
       "    </tr>\n",
       "    <tr>\n",
       "      <td>9</td>\n",
       "      <td>0.895522</td>\n",
       "      <td>0.945946</td>\n",
       "      <td>0.895522</td>\n",
       "      <td>0.852941</td>\n",
       "    </tr>\n",
       "  </tbody>\n",
       "</table>\n",
       "</div>"
      ],
      "text/plain": [
       "          0         1         2         3\n",
       "0  0.865979  1.000000  0.865979  0.923077\n",
       "1  0.782609  0.968750  0.782609  0.764706\n",
       "2  0.909091  1.000000  0.909091  0.935065\n",
       "3  0.896552  0.968750  0.896552  0.877193\n",
       "4  0.819672  0.985915  0.819672  0.838710\n",
       "5  0.875000  0.971429  0.875000  0.897436\n",
       "6  0.948718  0.975000  0.948718  0.923077\n",
       "7  0.962025  0.961039  0.962025  0.917647\n",
       "8  0.888889  0.888889  0.888889  0.821429\n",
       "9  0.895522  0.945946  0.895522  0.852941"
      ]
     },
     "execution_count": 30,
     "metadata": {},
     "output_type": "execute_result"
    }
   ],
   "source": [
    "pd.DataFrame(all_f1).T"
   ]
  },
  {
   "cell_type": "code",
   "execution_count": 31,
   "metadata": {},
   "outputs": [],
   "source": [
    "p_label_shift_no_y, pvals = classifier.label_shift_detector(X_test, return_bootstrap=True)\n",
    "p_label_shift_with_y, nrm, kld = classifier.label_shift_detector(X_test, y_test)"
   ]
  }
 ],
 "metadata": {
  "kernelspec": {
   "display_name": "Python 3",
   "language": "python",
   "name": "python3"
  },
  "language_info": {
   "codemirror_mode": {
    "name": "ipython",
    "version": 3
   },
   "file_extension": ".py",
   "mimetype": "text/x-python",
   "name": "python",
   "nbconvert_exporter": "python",
   "pygments_lexer": "ipython3",
   "version": "3.7.4"
  }
 },
 "nbformat": 4,
 "nbformat_minor": 2
}
