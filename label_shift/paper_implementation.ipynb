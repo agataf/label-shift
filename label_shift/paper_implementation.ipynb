{
 "cells": [
  {
   "cell_type": "code",
   "execution_count": 1,
   "metadata": {},
   "outputs": [],
   "source": [
    "# -*- coding: utf8\n",
    "\n",
    "\n",
    "from sklearn.metrics import confusion_matrix\n",
    "\n",
    "\n",
    "import numpy as np\n",
    "\n",
    "\n",
    "def calculate_marginal(y, n_classes):\n",
    "    mu = np.zeros(shape=(n_classes, 1))\n",
    "    for i in range(n_classes):\n",
    "        mu[i] = np.sum(y == i)\n",
    "    return mu / y.shape[0]\n",
    "\n",
    "\n",
    "def estimate_labelshift_ratio(y_true_val, y_pred_val, y_pred_trn, n_classes):\n",
    "    labels = np.arange(n_classes)\n",
    "    C = confusion_matrix(y_true_val, y_pred_val, labels).T\n",
    "    C = C / y_true_val.shape[0]\n",
    "\n",
    "    mu_t = calculate_marginal(y_pred_trn, n_classes)\n",
    "    lamb = 1.0 / min(y_pred_val.shape[0], y_pred_trn.shape[0])\n",
    "\n",
    "    I = np.eye(n_classes)\n",
    "    wt = np.linalg.solve(np.dot(C.T, C) + lamb * I, np.dot(C.T, mu_t))\n",
    "    return wt\n",
    "\n",
    "\n",
    "def estimate_target_dist(wt, y_true_val, n_classes):\n",
    "    mu_t = calculate_marginal(y_true_val, n_classes)\n",
    "    return wt * mu_t"
   ]
  },
  {
   "cell_type": "code",
   "execution_count": null,
   "metadata": {},
   "outputs": [],
   "source": []
  }
 ],
 "metadata": {
  "kernelspec": {
   "display_name": "Python 3",
   "language": "python",
   "name": "python3"
  },
  "language_info": {
   "codemirror_mode": {
    "name": "ipython",
    "version": 3
   },
   "file_extension": ".py",
   "mimetype": "text/x-python",
   "name": "python",
   "nbconvert_exporter": "python",
   "pygments_lexer": "ipython3",
   "version": "3.7.4"
  }
 },
 "nbformat": 4,
 "nbformat_minor": 2
}
